{
  "nbformat": 4,
  "nbformat_minor": 0,
  "metadata": {
    "colab": {
      "name": "Copy of Lab2Template.ipynb",
      "provenance": [],
      "include_colab_link": true
    },
    "kernelspec": {
      "name": "python3",
      "display_name": "Python 3"
    }
  },
  "cells": [
    {
      "cell_type": "markdown",
      "metadata": {
        "id": "view-in-github",
        "colab_type": "text"
      },
      "source": [
        "<a href=\"https://colab.research.google.com/github/kjafar11/SRA268Spring/blob/master/Copy_of_Lab2Template.ipynb\" target=\"_parent\"><img src=\"https://colab.research.google.com/assets/colab-badge.svg\" alt=\"Open In Colab\"/></a>"
      ]
    },
    {
      "cell_type": "markdown",
      "metadata": {
        "id": "6sOc4Uyr4U-Z",
        "colab_type": "text"
      },
      "source": [
        "## Graph Types"
      ]
    },
    {
      "cell_type": "markdown",
      "metadata": {
        "id": "0zZdVLAd5CYr",
        "colab_type": "text"
      },
      "source": [
        "Creator\n",
        "* Kevin Jafar"
      ]
    },
    {
      "cell_type": "markdown",
      "metadata": {
        "id": "g-r6Clq45Hn4",
        "colab_type": "text"
      },
      "source": [
        "### Deviation\n"
      ]
    },
    {
      "cell_type": "markdown",
      "metadata": {
        "id": "2gorxo6E7A0t",
        "colab_type": "text"
      },
      "source": [
        "![alt text](https://raw.githubusercontent.com/kjafar11/SRA268Spring/master/Deviation.png)"
      ]
    },
    {
      "cell_type": "markdown",
      "metadata": {
        "id": "w6bZ_NEi7E3w",
        "colab_type": "text"
      },
      "source": [
        "#### What is this telling us?"
      ]
    },
    {
      "cell_type": "markdown",
      "metadata": {
        "id": "95L-spaC7QHF",
        "colab_type": "text"
      },
      "source": [
        "This deviation graph contains the sum of win points per academic year. By having it as a deviation graph it represents how many points were scored total above or below the average amount of points scored out of all the years combined. The average line is at 4913 points. The bars above the average line shows the amount of points scored over the average points scored. The bars below the average lines show the amount of points scored below the average points scored. "
      ]
    },
    {
      "cell_type": "markdown",
      "metadata": {
        "id": "YgXyXjmz7cDP",
        "colab_type": "text"
      },
      "source": [
        "### Correlation\n"
      ]
    },
    {
      "cell_type": "markdown",
      "metadata": {
        "id": "SGx15rZq7hvt",
        "colab_type": "text"
      },
      "source": [
        "![alt text](https://raw.githubusercontent.com/kjafar11/SRA268Spring/master/Correlation.png)"
      ]
    },
    {
      "cell_type": "markdown",
      "metadata": {
        "id": "dljjONNi7jmj",
        "colab_type": "text"
      },
      "source": [
        "#### What is this telling us?"
      ]
    },
    {
      "cell_type": "markdown",
      "metadata": {
        "id": "PwZEZrFB7laG",
        "colab_type": "text"
      },
      "source": [
        "The correlation graph contains the win points for every win seed for March madness. The line of best fit shows the gradual average of the win points for each seed from 1 to 16. It would be expected that the line of best fint would be steeper because the higher seeds would score more points per win. Based on the graph it shows that win points doesn't effect whether a team wins or loses most of the time. Some teams can have a low amount of points scored and still win the game. Most games are also competetive which causes the line of best fit to be a shallow line instead of a steep line. "
      ]
    },
    {
      "cell_type": "markdown",
      "metadata": {
        "id": "MqUdI-uL7r2s",
        "colab_type": "text"
      },
      "source": [
        "### Ranking\n"
      ]
    },
    {
      "cell_type": "markdown",
      "metadata": {
        "id": "AvlxCOVt7x9F",
        "colab_type": "text"
      },
      "source": [
        "![alt text](https://raw.githubusercontent.com/kjafar11/SRA268Spring/master/Ranking.png)"
      ]
    },
    {
      "cell_type": "markdown",
      "metadata": {
        "id": "lCAYtfza7yTq",
        "colab_type": "text"
      },
      "source": [
        "#### What is this telling us?"
      ]
    },
    {
      "cell_type": "markdown",
      "metadata": {
        "id": "MyuciD277ygU",
        "colab_type": "text"
      },
      "source": [
        "The ranking graph shows the amount of points scored per region for the tournament. All of the regions had similar amounts of points scored, but region Y had the most points scored in the tournament. Region W was the region with the least amount of points scored during the tournament. The graph could be further divded into smaller sections to show which conferences had the highest amount of points scored. The graph could have shown that each region was significantly better at scoring than the others, but it showed that during the tournament all of the regions were evenly matched. "
      ]
    },
    {
      "cell_type": "markdown",
      "metadata": {
        "id": "dGDGl8-G7y8Y",
        "colab_type": "text"
      },
      "source": [
        "### Distribution\n"
      ]
    },
    {
      "cell_type": "markdown",
      "metadata": {
        "id": "FB0uV-jy76p9",
        "colab_type": "text"
      },
      "source": [
        "![alt text](https://raw.githubusercontent.com/kjafar11/SRA268Spring/master/Distribution.png)"
      ]
    },
    {
      "cell_type": "markdown",
      "metadata": {
        "id": "_6SOzhrQ76zH",
        "colab_type": "text"
      },
      "source": [
        "#### What is this telling us?"
      ]
    },
    {
      "cell_type": "markdown",
      "metadata": {
        "id": "HBWqsS_g767h",
        "colab_type": "text"
      },
      "source": [
        "The histogram is showing the amount of points scored when a team loses. Going across the X axis is each section of points scored when lost. The Y axis shows the total points scored when a team loses at that range. For example, at the range of about 53 points scored when a team loses, there was a total of 383 points scored. That means about 7 teams lost when their team scored around 53 points. There was a higher trend of teams losing games when their team scored around 55 to 80 points. While other teams rarely scored lower than 45 points at all and teams that scored higher than 85 points had fewer loses as well. "
      ]
    },
    {
      "cell_type": "markdown",
      "metadata": {
        "id": "wQsDThk677Fy",
        "colab_type": "text"
      },
      "source": [
        "### Change over Time\n"
      ]
    },
    {
      "cell_type": "markdown",
      "metadata": {
        "id": "Z1j_YLOA7_OK",
        "colab_type": "text"
      },
      "source": [
        "![alt text](https://raw.githubusercontent.com/kjafar11/SRA268Spring/master/Change%20Over%20Time.png)"
      ]
    },
    {
      "cell_type": "markdown",
      "metadata": {
        "id": "mpfsmmgi7_Vj",
        "colab_type": "text"
      },
      "source": [
        "#### What is this telling us?"
      ]
    },
    {
      "cell_type": "markdown",
      "metadata": {
        "id": "rYLXoMMO7_di",
        "colab_type": "text"
      },
      "source": [
        "The change over time graph is showing the amount of total loss points scored per academic year. The amount of points scored from 1984 to 2017 ranged from about 3,700 to 4,500. on average most years the amount of losing points scored was about 4,000. There hasn't been much change over time for the amount of losing points scored other than from 1984 to 1986 where the amount of points scored went from 3,738 to 4,535. This was the biggest change, all of the years after that had a consistent range and would barely increase or decrease each year. "
      ]
    },
    {
      "cell_type": "markdown",
      "metadata": {
        "id": "lFwiHoE-7_jZ",
        "colab_type": "text"
      },
      "source": [
        "### Magnitude\n"
      ]
    },
    {
      "cell_type": "markdown",
      "metadata": {
        "id": "ICQFnXj78EbF",
        "colab_type": "text"
      },
      "source": [
        "![alt text](https://raw.githubusercontent.com/kjafar11/SRA268Spring/master/Magnitude.png)"
      ]
    },
    {
      "cell_type": "markdown",
      "metadata": {
        "id": "QGG7XYG88Eii",
        "colab_type": "text"
      },
      "source": [
        "#### What is this telling us?"
      ]
    },
    {
      "cell_type": "markdown",
      "metadata": {
        "id": "VS7uGa0l8Eos",
        "colab_type": "text"
      },
      "source": [
        "The magnitude graph shows the times a team went to overtime based on who their mascot was. There were 25 teams that went to overtime that did not have a mascot which may be misleading when shown on the graph. There were several teams that never even went to overtime during the tournament which could mean that they could have lost on their first game played or they never had the opportunity to go into overtime. The mascot that went to the most overtimes was Albert and Alberta Gator. About half of the total mascots were atleast able to go to from 1 to 4 overtimes. "
      ]
    },
    {
      "cell_type": "markdown",
      "metadata": {
        "id": "bEKFxP8R8Evk",
        "colab_type": "text"
      },
      "source": [
        "### Part-to-Whole\n"
      ]
    },
    {
      "cell_type": "markdown",
      "metadata": {
        "id": "WFHlcYKV8E35",
        "colab_type": "text"
      },
      "source": [
        "![alt text](https://raw.githubusercontent.com/kjafar11/SRA268Spring/master/Part%20To%20Whole.png)"
      ]
    },
    {
      "cell_type": "markdown",
      "metadata": {
        "id": "PNSd3wlp8UZH",
        "colab_type": "text"
      },
      "source": [
        "#### What is this telling us?"
      ]
    },
    {
      "cell_type": "markdown",
      "metadata": {
        "id": "y9tb_QRA8aqt",
        "colab_type": "text"
      },
      "source": [
        "The Part To Whole graph is similar to the ranking graph where it is showing the total win points scored in each region. There are four different regions represented in the tournament which is shown in the pie chart in 4 different sections. Each of the sections are almost equal sizes which shows that each region scored about the same amount of points total when they win. There was a combined total of 162,958 win points scored in the entire tournament adn the pie chart has split up the total based on each region's total win points scored. "
      ]
    }
  ]
}
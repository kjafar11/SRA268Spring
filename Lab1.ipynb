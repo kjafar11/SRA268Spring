{
  "nbformat": 4,
  "nbformat_minor": 0,
  "metadata": {
    "colab": {
      "name": "Lab1.ipynb",
      "provenance": [],
      "include_colab_link": true
    },
    "kernelspec": {
      "name": "python3",
      "display_name": "Python 3"
    }
  },
  "cells": [
    {
      "cell_type": "markdown",
      "metadata": {
        "id": "view-in-github",
        "colab_type": "text"
      },
      "source": [
        "<a href=\"https://colab.research.google.com/github/kjafar11/SRA268Spring/blob/master/Lab1.ipynb\" target=\"_parent\"><img src=\"https://colab.research.google.com/assets/colab-badge.svg\" alt=\"Open In Colab\"/></a>"
      ]
    },
    {
      "cell_type": "markdown",
      "metadata": {
        "id": "pa-AZM3q50cq",
        "colab_type": "text"
      },
      "source": [
        "# Max Temperature In January 2017"
      ]
    },
    {
      "cell_type": "markdown",
      "metadata": {
        "id": "6ouYimS0TFi3",
        "colab_type": "text"
      },
      "source": [
        "# Description"
      ]
    },
    {
      "cell_type": "markdown",
      "metadata": {
        "id": "3cKUtViSLooC",
        "colab_type": "text"
      },
      "source": [
        "The graph represents the max temperature of every day in January 2017. Throughout the month of January the max temperature would change each day. January 2017 for the most part had a temperature around 30 degrees Fahrenheit. The lowest temp max was at 16 degrees F and the highest temp max was at 61 degrees F. "
      ]
    },
    {
      "cell_type": "markdown",
      "metadata": {
        "id": "HNBDx-Ev6FD2",
        "colab_type": "text"
      },
      "source": [
        "![Image of Temp max January 2017]( https://raw.githubusercontent.com/kjafar11/SRA268Spring/master/image/Lab%201%20image.jpg)"
      ]
    },
    {
      "cell_type": "markdown",
      "metadata": {
        "id": "h6oAIBgbOBQf",
        "colab_type": "text"
      },
      "source": [
        "# Conclusion\n"
      ]
    }
  ]
}